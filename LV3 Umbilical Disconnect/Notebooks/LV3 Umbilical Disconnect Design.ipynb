{
 "cells": [
  {
   "cell_type": "markdown",
   "metadata": {},
   "source": [
    "# LV3 Umbillical Disconnect\n",
    "\n",
    "## Innitial Design:\n",
    "\n",
    "   The connector's innitial design uses an electromagnetic locking design to hold the connection closed while the rocket is on the launch pad. At the moment of launch the polarity of this electromagnetic locking mechanism will be reversed to push the connector away from the the body of the rocket and avoid interference with the fins as they pass.\n",
    "    \n",
    "## Design Requirements:\n",
    "\n",
    "   Here is where concrete numbers for design requirements go. Any numerical criteria that needs to be met and tested for before launch day.\n",
    "    \n",
    "   * Minimum locking force: This is the mimimum force required to maintain connection to the rocket prior to launch.\n",
    "   * Maximum locking force: This is the maximum force allowed to let the magnet break loose from tension without effecting the rocket flight or breaking something important.\n",
    "   * Maximum footprint: The max. amount of space that the connector is allowed to take up on the outside of the rocket.\n",
    "   * Maximum release time: How fast does it need to let go?\n",
    "   \n",
    "## Magnet design:\n",
    "\n",
    "In designing for the optimum locking force a calculation of the size and shape of the magnetic locking mechanism will be made below.\n",
    "\n",
    "### Conceptual design points:\n",
    "\n",
    "The obvious design choice is for a DC electromagnet as it will hold polarity in one direction as long as current is applied. This polarity can easily be reversed by reversing the direction of current.\n",
    "\n",
    "COTS-ish option: maybe the yoke from an old CRT TV?\n",
    "\n",
    "A method for cooling the coil will be required. The Magnet will need to be engaged for an extended period of time in the desert under direct sunlight.This system must be passive. \n",
    "\n",
    "\n",
    "\n",
    "### Design Inputs:\n",
    "\n",
    "Core material:\n",
    "\n",
    "Desired magnetic flux density:\n",
    "\n",
    "Required Surface area:\n",
    "\n",
    "\n",
    "### Design Outputs:\n",
    "\n",
    "Number of turns required:\n",
    "\n",
    "Current required:\n",
    "\n",
    "Minimum wire gauge:\n",
    "\n",
    "Magnet inductance: "
   ]
  },
  {
   "cell_type": "markdown",
   "metadata": {},
   "source": [
    "### Force calculation:\n",
    "\n",
    "The equation for the force of an electromagnet is as follows:\n",
    "$$ F=\\frac{ni^2Ma}{2g^2}$$\n",
    "**Where:**  \n",
    "$n =$ Number of turns in the coil  \n",
    "$i =$ Current supplied to the circuit  \n",
    "$M =$ Magnetic constant defined as $M = 4\\pi*10^{-7}$  \n",
    "$g =$ Distance between the magnet and the material being attracted or repelled\n",
    "$a =$ Cross sectional area of the magnet face\n",
    "\n",
    "Once we know the force required to maintain connection with the rocket this equation can be rearranged to give required number of turns from the maximum allowed area. from there the wire gauge can be determined from the area and current requirements."
   ]
  },
  {
   "cell_type": "code",
   "execution_count": null,
   "metadata": {
    "collapsed": true
   },
   "outputs": [],
   "source": []
  },
  {
   "cell_type": "markdown",
   "metadata": {},
   "source": [
    "### Cooling system Design:"
   ]
  }
 ],
 "metadata": {
  "kernelspec": {
   "display_name": "Python 3",
   "language": "python",
   "name": "python3"
  },
  "language_info": {
   "codemirror_mode": {
    "name": "ipython",
    "version": 3
   },
   "file_extension": ".py",
   "mimetype": "text/x-python",
   "name": "python",
   "nbconvert_exporter": "python",
   "pygments_lexer": "ipython3",
   "version": "3.5.1"
  }
 },
 "nbformat": 4,
 "nbformat_minor": 0
}
